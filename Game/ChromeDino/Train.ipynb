{
 "cells": [
  {
   "cell_type": "code",
   "execution_count": 1,
   "metadata": {},
   "outputs": [
    {
     "name": "stdout",
     "output_type": "stream",
     "text": [
      "pygame 1.9.4\n",
      "Hello from the pygame community. https://www.pygame.org/contribute.html\n"
     ]
    }
   ],
   "source": [
    "import game\n",
    "import sys\n",
    "import random\n",
    "sys.setrecursionlimit(999999999)"
   ]
  },
  {
   "cell_type": "code",
   "execution_count": 2,
   "metadata": {},
   "outputs": [],
   "source": [
    "epoch = 1000\n",
    "previousState = (-1,-1,-1)\n",
    "previousAction = 0\n",
    "gamma = 0.8\n",
    "Q = {}"
   ]
  },
  {
   "cell_type": "code",
   "execution_count": 3,
   "metadata": {},
   "outputs": [],
   "source": [
    "def onJump(nextObstacleDist,nextObstacleHeight,nextObstacleWidth,frameRate):\n",
    "    global previousState\n",
    "    global previousAction\n",
    "    previousState = (nextObstacleDist,nextObstacleHeight,nextObstacleWidth)\n",
    "    prevousAction = 1\n",
    "\n",
    "def onFrameChange(isJumping,nextObstacleDist,nextObstacleHeight,nextObstacleWidth,frameRate):\n",
    "    global epoch\n",
    "    global Q\n",
    "    if isJumping:\n",
    "        return\n",
    "    global previousAction\n",
    "    global previousState\n",
    "    currentState = (nextObstacleDist,nextObstacleHeight,nextObstacleWidth)\n",
    "    Q.setdefault(previousState,[0,0])\n",
    "    #print(currentState)\n",
    "    currentAction = 0\n",
    "    if(currentState not in Q):\n",
    "        Q[previousState][previousAction] = 0.5\n",
    "        randomAction = random.randint(0,2)\n",
    "        if randomAction == 1:\n",
    "            game.jumpAction(onJump)\n",
    "        else:\n",
    "            previousAction = currentAction\n",
    "            previousState = currentState\n",
    "    else:\n",
    "        Q.setdefault(currentState,[0,0])\n",
    "        maxIndex = 0\n",
    "        if(Q[currentState][1] > Q[currentState][0]):\n",
    "            maxIndex = 1\n",
    "        Q[previousState][previousAction] = 0.1 + gamma * Q[currentState][maxIndex]\n",
    "        action = 1\n",
    "        if(Q[currentState][1] < Q[currentState][0]):\n",
    "            action = 0\n",
    "        if(action==1):\n",
    "            game.jumpAction(onJump)\n",
    "        else:\n",
    "            previousAction = currentAction\n",
    "            previousState = currentState\n",
    "        \n",
    "    \n",
    "def onCollide():\n",
    "    global previousState\n",
    "    global previousAction\n",
    "    global epoch\n",
    "    global Q\n",
    "    Q.setdefault(previousState,[0,0])\n",
    "    Q[previousState][previousAction] += -1*gamma\n",
    "    #if(epoch%100==0):\n",
    "    #    print(Q)\n",
    "    \n",
    "    if(epoch>-1):\n",
    "        game.restart(onFrameChange,onCollide,onJump,onCrossedObstacle)\n",
    "    else:\n",
    "        return\n",
    "    epoch-=1\n",
    "\n",
    "def onCrossedObstacle(nextObstacleDist,nextObstacleHeight,nextObstacleWidth,frameRate):\n",
    "    global previousState\n",
    "    global previousAction\n",
    "    Q.setdefault(previousState,[0,0])\n",
    "    currentState = (nextObstacleDist,nextObstacleHeight,nextObstacleWidth)\n",
    "    Q.setdefault(currentState,[0,0])\n",
    "    maxIndex = 0\n",
    "    if(Q[currentState][1] > Q[currentState][0]):\n",
    "        maxIndex = 1\n",
    "    Q[previousState][1] = 1 + gamma*Q[currentState][maxIndex]"
   ]
  },
  {
   "cell_type": "code",
   "execution_count": null,
   "metadata": {},
   "outputs": [],
   "source": [
    "game.init()\n",
    "game.startEnvironment(onFrameChange,onCollide,onJump,onCrossedObstacle)"
   ]
  },
  {
   "cell_type": "code",
   "execution_count": null,
   "metadata": {},
   "outputs": [],
   "source": []
  }
 ],
 "metadata": {
  "kernelspec": {
   "display_name": "Python 3",
   "language": "python",
   "name": "python3"
  },
  "language_info": {
   "codemirror_mode": {
    "name": "ipython",
    "version": 3
   },
   "file_extension": ".py",
   "mimetype": "text/x-python",
   "name": "python",
   "nbconvert_exporter": "python",
   "pygments_lexer": "ipython3",
   "version": "3.6.5"
  }
 },
 "nbformat": 4,
 "nbformat_minor": 2
}
