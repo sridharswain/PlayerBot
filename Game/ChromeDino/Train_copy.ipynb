{
 "cells": [
  {
   "cell_type": "code",
   "execution_count": 1,
   "metadata": {},
   "outputs": [
    {
     "name": "stdout",
     "output_type": "stream",
     "text": [
      "pygame 1.9.4\n",
      "Hello from the pygame community. https://www.pygame.org/contribute.html\n"
     ]
    }
   ],
   "source": [
    "import game\n",
    "import sys\n",
    "import random\n",
    "import matplotlib.pyplot as plt\n",
    "import json\n",
    "sys.setrecursionlimit(999999999)"
   ]
  },
  {
   "cell_type": "code",
   "execution_count": 2,
   "metadata": {},
   "outputs": [],
   "source": [
    "epoch = 5000\n",
    "previousState = (-1,-1,-1,-1)\n",
    "previousAction = 0\n",
    "gamma = 0.8\n",
    "Q = {}\n",
    "scores = []\n",
    "global score"
   ]
  },
  {
   "cell_type": "code",
   "execution_count": 3,
   "metadata": {},
   "outputs": [],
   "source": [
    "def onFrameChange(isJumping,isDucked,nextObstacleDist,nextObstacleHeight,nextObstacleWidth,movementRate):\n",
    "    global epoch\n",
    "    global Q\n",
    "    if isJumping or isDucked:\n",
    "        return\n",
    "    global previousAction\n",
    "    global previousState\n",
    "    currentState = (nextObstacleDist,nextObstacleHeight,nextObstacleWidth,movementRate)\n",
    "    Q.setdefault(previousState,[0,0,0])\n",
    "    if currentState not in Q:\n",
    "        Q.setdefault(currentState,[0,0,0])\n",
    "        randomAction = random.choice([0,0,1,2])\n",
    "        if(randomAction == 1):\n",
    "            game.jumpAction()\n",
    "        elif(randomAction == 2):\n",
    "            game.duckAction()\n",
    "        if(previousAction == 0):\n",
    "            Q[previousState][previousAction] = 0.1\n",
    "        currentAction = randomAction\n",
    "    else:\n",
    "        maxActionIndex = 0\n",
    "        for actionIndex in range(3):\n",
    "            if(Q[currentState][actionIndex] > Q[currentState][maxActionIndex]):\n",
    "                maxActionIndex = actionIndex\n",
    "        if(maxActionIndex == 1):\n",
    "            game.jumpAction()\n",
    "        elif(maxActionIndex == 2):\n",
    "            game.duckAction()\n",
    "        if(previousAction == 0):    \n",
    "            Q[previousState][previousAction] = 0.1 + gamma * Q[currentState][maxActionIndex]\n",
    "        currentAction = maxActionIndex\n",
    "        \n",
    "    previousState = currentState\n",
    "    previousAction = currentAction\n",
    "        \n",
    "\n",
    "def onCollide(score,isJumping,isDucked,nextObstacleDist,nextObstacleHeight,nextObstacleWidth,movementRate):\n",
    "    global previousState\n",
    "    global previousAction\n",
    "    global epoch\n",
    "    global Q\n",
    "    global scores\n",
    "    Q.setdefault(previousState,[0,0,0])\n",
    "    Q[previousState][previousAction] -= 1\n",
    "    if(isJumping):\n",
    "        Q[previousState][1] -= 1\n",
    "    elif(isDucked):\n",
    "        Q[previousState][2] -= 1\n",
    "\n",
    "    scores.append(score)\n",
    "    game.changeEpisode()\n",
    "    if(epoch>-1):\n",
    "        epoch-=1\n",
    "        previousState = (-1,-1,-1,-1)\n",
    "        previousAction = 0\n",
    "        game.restartWithMovementRate(onFrameChange,onCollide,onCrossedObstacle,onExit)\n",
    "    else:\n",
    "        return\n",
    "\n",
    "def onCrossedObstacle(nextObstacleDist,nextObstacleHeight,nextObstacleWidth,movementRate):\n",
    "    global previousState\n",
    "    global previousAction\n",
    "    Q[previousState][previousAction] += 1 # + gamma*Q[currentState][maxActionIndex]\n",
    "    #currentState = (nextObstacleDist,nextObstacleHeight,nextObstacleWidth,movementRate)\n",
    "    #Q.setdefault(currentState,[0,0,0])\n",
    "    '''maxActionIndex = 0\n",
    "    for actionIndex in range(3):\n",
    "        if(Q[currentState][actionIndex] > Q[currentState][maxActionIndex]):\n",
    "            maxActionIndex = actionIndex'''\n",
    "\n",
    "def onExit(score):\n",
    "    global scores\n",
    "    scores.append(score)"
   ]
  },
  {
   "cell_type": "code",
   "execution_count": null,
   "metadata": {},
   "outputs": [],
   "source": [
    "game.init()\n",
    "game.startEnvironment(onFrameChange,onCollide,onCrossedObstacle,onExit)\n",
    "plt.plot(scores)\n",
    "plt.show()\n",
    "strQ = {}\n",
    "for key in Q.keys():\n",
    "    strQ[str(key)] = Q[key]\n",
    "file = open(\"weights\",\"w\")\n",
    "file.write(json.dumps(strQ))"
   ]
  }
 ],
 "metadata": {
  "kernelspec": {
   "display_name": "Python 3",
   "language": "python",
   "name": "python3"
  },
  "language_info": {
   "codemirror_mode": {
    "name": "ipython",
    "version": 3
   },
   "file_extension": ".py",
   "mimetype": "text/x-python",
   "name": "python",
   "nbconvert_exporter": "python",
   "pygments_lexer": "ipython3",
   "version": "3.6.5"
  }
 },
 "nbformat": 4,
 "nbformat_minor": 2
}
