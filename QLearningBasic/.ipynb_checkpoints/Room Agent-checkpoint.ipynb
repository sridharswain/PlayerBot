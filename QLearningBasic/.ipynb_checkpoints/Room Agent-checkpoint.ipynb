{
 "cells": [
  {
   "cell_type": "code",
   "execution_count": 2,
   "metadata": {},
   "outputs": [],
   "source": [
    "import random"
   ]
  },
  {
   "cell_type": "code",
   "execution_count": null,
   "metadata": {},
   "outputs": [],
   "source": [
    "#            0  1  2  3  4  5\n",
    "rmatrix = [[-1,-1,-1,-1, 0, -1]  # 0\n",
    "           [-1,-1,-1, 0,-1,100], # 1\n",
    "           [-1,-1,-1, 0,-1, -1], # 2\n",
    "           [-1, 0, 0,-1, 0,100], # 3\n",
    "           [ 0,-1,-1, 0,-1,100], # 4\n",
    "           [-1, 0,-1,-1, 0,100]] # 5"
   ]
  },
  {
   "cell_type": "code",
   "execution_count": null,
   "metadata": {},
   "outputs": [],
   "source": [
    "g=0.5"
   ]
  },
  {
   "cell_type": "code",
   "execution_count": null,
   "metadata": {},
   "outputs": [],
   "source": [
    "mmatrix = [[0 for i in range(6)] for j in range(6)]"
   ]
  },
  {
   "cell_type": "code",
   "execution_count": 3,
   "metadata": {},
   "outputs": [
    {
     "name": "stdout",
     "output_type": "stream",
     "text": [
      "2\n",
      "5\n",
      "5\n",
      "-1\n",
      "1\n",
      "1\n",
      "0\n",
      "2\n",
      "3\n",
      "4\n"
     ]
    }
   ],
   "source": [
    "ne=10\n",
    "for i in range(ne):\n",
    "    cs = random.randint(0,5)\n",
    "    print(cs)"
   ]
  }
 ],
 "metadata": {
  "kernelspec": {
   "display_name": "Python 3",
   "language": "python",
   "name": "python3"
  },
  "language_info": {
   "codemirror_mode": {
    "name": "ipython",
    "version": 3
   },
   "file_extension": ".py",
   "mimetype": "text/x-python",
   "name": "python",
   "nbconvert_exporter": "python",
   "pygments_lexer": "ipython3",
   "version": "3.5.2"
  }
 },
 "nbformat": 4,
 "nbformat_minor": 2
}
